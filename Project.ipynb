{
 "cells": [
  {
   "cell_type": "code",
   "execution_count": 1,
   "metadata": {},
   "outputs": [],
   "source": [
    "import pandas as pd\n",
    "import collections\n",
    "import numpy as np\n",
    "import matplotlib.pyplot as plt\n",
    "np.seterr(divide='ignore', invalid='ignore')\n",
    "\n",
    "from sklearn.metrics import confusion_matrix, classification_report, precision_score\n",
    "from sklearn.decomposition import PCA\n",
    "from sklearn.model_selection import train_test_split"
   ]
  },
  {
   "cell_type": "markdown",
   "metadata": {},
   "source": [
    "## Define functions\n",
    "\n",
    "The function for training `QDA` :\n",
    "- takes the inputs : $X_{app}$ (training input matrix $n, p$), $z_{app}$ (binary class indicator matrix $n, K$), $m_{prior}$ (Gaussian prior expectation matrix $K, p$), $df_{exp}$ (Gaussian prior shrinkage parameter), $S_{prior}$ (covariance matrix $p, p, K$ for the inverse -Wishart prior), $df_{cov}$ (degree of freedom of the inverse-Wishart prior)\n",
    "- provides : $pi$ (vector $K, 1$ of class proportions), $mu$ (estimated expectation matrix $K, p$), $Sig$ (estimated covariance matrices $p, p, K$)"
   ]
  },
  {
   "cell_type": "code",
   "execution_count": 2,
   "metadata": {},
   "outputs": [],
   "source": [
    "def QDA(Xapp, zapp, mprior, df_exp, Sprior, df_cov):\n",
    "    n, p, K =  Xapp.shape[0], Xapp.shape[1], zapp.shape[1]\n",
    "    pi = np.zeros(K)\n",
    "    mu = np.zeros((K, p))\n",
    "    B = np.zeros((p, p, n))\n",
    "    Sig = np.zeros((p, p, K))\n",
    "    \n",
    "    pi = np.mean(zapp, axis=0)\n",
    "    for j in range(K):\n",
    "        mu[j, :] = (sum(zapp[i, j] * Xapp[i, :] for i in range(n)) \n",
    "                    + df_exp * mprior[j, :]) / (sum(zapp[:, j]) + df_exp)\n",
    "        \n",
    "        for i in range(n):\n",
    "            temp = (Xapp[i, :] - mprior[j, :]).reshape((p, -1))\n",
    "            B[:, :, i] = temp @ temp.T\n",
    "        \n",
    "        Sig[:, :, j] = (sum((zapp[i, j] * B[:, :, i]) for i in range(n)) + \n",
    "                        df_exp * (mu[j, :] - mprior[j, :]) @ (mu[j, :] - mprior[j, :]).T + \n",
    "                        Sprior[:, :, j].T) / (sum(zapp[:, j]) + df_cov + p + 2)\n",
    "    return pi, mu, Sig"
   ]
  },
  {
   "cell_type": "code",
   "execution_count": 3,
   "metadata": {},
   "outputs": [],
   "source": [
    "def QDA_without_prior(Xapp, zapp):\n",
    "    n, p, K =  Xapp.shape[0], Xapp.shape[1], zapp.shape[1]\n",
    "    pi = np.zeros(K)\n",
    "    mu = np.zeros((K, p))\n",
    "    B = np.zeros((p, p, n))\n",
    "    Sig = np.zeros((p, p, K))\n",
    "    \n",
    "    pi = np.mean(zapp, axis=0)\n",
    "    for j in range(K):\n",
    "        mu[j, :] = sum(zapp[i, j] * Xapp[i, :] for i in range(n))\n",
    "        \n",
    "        for i in range(n):\n",
    "            temp = (Xapp[i, :] - mu[j, :]).reshape((p, -1))\n",
    "            \n",
    "            B[:, :, i] = temp @ temp.T\n",
    "        \n",
    "        Sig[:, :, j] = sum((zapp[i, j] * B[:, :, i]) for i in range(n)) / sum(zapp[:, j])\n",
    "    return pi, mu, Sig"
   ]
  },
  {
   "cell_type": "markdown",
   "metadata": {},
   "source": [
    "The function for evaluating test set `evaluation` :\n",
    "- takes the inputs : $X_{tst}$ (test input matrix $n, p$), $pi$ (vector $K, 1$ of class proportions), $mu$ (estimated expectation matrix $K, p$), $Sig$ (estimated covariance matrices $p, p, K$)\n",
    "- provides : $prob$ (matrix $n, K$ of estimated class posterior probabilities) and $pred$ (vector $n, 1$ of corresponding decisions)"
   ]
  },
  {
   "cell_type": "code",
   "execution_count": 4,
   "metadata": {},
   "outputs": [],
   "source": [
    "def evaluation(Xtst, pi, mu, Sig):\n",
    "    n, p, K = Xtst.shape[0], Xtst.shape[1], len(pi)\n",
    "    prob = np.zeros((n, K))\n",
    "    pred = np.zeros(n)\n",
    "    \n",
    "    f = lambda x, mu, Sig: np.linalg.det(Sig)**(-1/2) * np.exp((-1/2) *(x - mu).T\n",
    "                                                               @ np.linalg.inv(Sig)\n",
    "                                                               @ (x - mu))\n",
    "   \n",
    "    for j in range(K):\n",
    "        for i in range(n):\n",
    "            total = sum(pi[k] * f(Xtst[i, :], mu[k, :], Sig[:, :, k]) for k in range(K))\n",
    "            prob[i, j] = pi[j] * f(Xtst[i, :], mu[j, :], Sig[:, :, j]) / total\n",
    "        \n",
    "    pred = np.argmax(prob, axis=1)\n",
    "    \n",
    "    return prob, pred"
   ]
  },
  {
   "cell_type": "markdown",
   "metadata": {},
   "source": [
    "We define a `data_processing` function to test different dataset. The function does respectively :\n",
    "- Read the dataset by the `pandas` library and transform it to the one in form of the `numpy` library in order to facilitate our next works.\n",
    "- Apply PCA filtering process to the dataset if necessary.\n",
    "- Sort all classes of the dataset and display their enumeration\n",
    "- Separate the dataset into training and test ones by `cut_off` coefficient predefined at `0.9`\n",
    "- Calculate the prior expectation and variance based on the training set"
   ]
  },
  {
   "cell_type": "code",
   "execution_count": 5,
   "metadata": {},
   "outputs": [],
   "source": [
    "def data_processing(file_url, n_components_pca=None, test_size=0.3):\n",
    "    data = pd.read_csv(file_url, header=0)\n",
    "    data = data.to_numpy()\n",
    "    \n",
    "    if n_components_pca is not None:\n",
    "        data_y = data[:, -1]\n",
    "        data_X = data[:, :-1]\n",
    "        pca = PCA(n_components=n_components_pca)\n",
    "        data_X = pca.fit_transform(data_X)\n",
    "        data = np.hstack((data_X, data_y.reshape((-1,1))))\n",
    "    \n",
    "    classes = sorted(collections.Counter(list(data[:, -1])).keys())\n",
    "    classes_with_index = {}\n",
    "    \n",
    "    K = len(classes)\n",
    "    n, p = data.shape[0], data.shape[1] - 1\n",
    "    for i_class in range(K):\n",
    "        classes_with_index[i_class] = classes[i_class]\n",
    "        data[data[:, -1] == classes[i_class], -1] = i_class\n",
    "    print(\"Ours classes are enumerated as bellow : \\n\", classes_with_index)\n",
    "    \n",
    "    if test_size > 1 or test_size < 0:\n",
    "        raise IndexError(\"invalid value of test_size\")\n",
    "    else:\n",
    "        Xapp, Xtst, yapp, ytst = train_test_split(data[:, :-1], data[:, -1], test_size=test_size)\n",
    "\n",
    "        Zapp = np.zeros((len(yapp), K))\n",
    "        Ztst = np.zeros((len(ytst), K))\n",
    "        for i in range(len(yapp)):\n",
    "            Zapp[i, int(yapp[i])] = 1\n",
    "        for i in range(len(ytst)):\n",
    "            Ztst[i, int(ytst[i])] = 1\n",
    "    \n",
    "    mprior = np.zeros((K, p))\n",
    "    Sprior = np.zeros((p, p, K))\n",
    "    for j in range(K):\n",
    "        temp = data[data[:, -1] == j, :-1]\n",
    "        temp = temp.astype(float)\n",
    "        mprior[j, :] = temp.mean(axis = 0)\n",
    "        Sprior[:, :, j] = np.cov(temp, rowvar=False)\n",
    "    return Xapp, Zapp, Xtst, Ztst, mprior, Sprior"
   ]
  },
  {
   "cell_type": "markdown",
   "metadata": {},
   "source": [
    "## Optdigits test\n",
    "\n",
    "The `optdigits` dataset has many zero elements that make itselft correlated. That's why the result from the inital training datatset is badly evaluated. We then apply a PCA filtering process with number of principal components depending on the `cut_off` coefficient (rank of training set) in order to eliminate the correlated ones. As a result, we get much better performance. <br>\n",
    "For the choice of the shrinkage parameter $df_{exp}$ and the degree of freedom $df_{co}v$, we a priori choose $df_{exp} = 10$ and $df_{cov} = 300$ for this dataset and also the next ones."
   ]
  },
  {
   "cell_type": "code",
   "execution_count": 6,
   "metadata": {},
   "outputs": [
    {
     "name": "stdout",
     "output_type": "stream",
     "text": [
      "Ours classes are enumerated as bellow : \n",
      " {0: 0.0, 1: 1.0, 2: 2.0, 3: 3.0, 4: 4.0, 5: 5.0, 6: 6.0, 7: 7.0, 8: 8.0, 9: 9.0}\n",
      "\n",
      "\n",
      " [[159   0   0   0   0   1   0   0   1   0]\n",
      " [  0 160   0   1   1   0   0   0   0   4]\n",
      " [  0   0 171   0   0   0   0   0   0   1]\n",
      " [  0   0   0 168   0   1   0   0   2   0]\n",
      " [  0   0   0   0 179   0   0   0   0   0]\n",
      " [  0   0   0   1   0 176   0   0   2   2]\n",
      " [  0   0   0   0   0   0 162   0   0   0]\n",
      " [  0   0   0   0   0   0   0 167   1   0]\n",
      " [  0   1   0   0   0   0   0   0 168   0]\n",
      " [  0   0   0   0   2   0   0   2   1 152]]\n",
      "\n",
      "\n",
      "               precision    recall  f1-score   support\n",
      "\n",
      "           0       1.00      0.99      0.99       161\n",
      "           1       0.99      0.96      0.98       166\n",
      "           2       1.00      0.99      1.00       172\n",
      "           3       0.99      0.98      0.99       171\n",
      "           4       0.98      1.00      0.99       179\n",
      "           5       0.99      0.97      0.98       181\n",
      "           6       1.00      1.00      1.00       162\n",
      "           7       0.99      0.99      0.99       168\n",
      "           8       0.96      0.99      0.98       169\n",
      "           9       0.96      0.97      0.96       157\n",
      "\n",
      "    accuracy                           0.99      1686\n",
      "   macro avg       0.99      0.99      0.99      1686\n",
      "weighted avg       0.99      0.99      0.99      1686\n",
      "\n",
      "\n",
      "\n",
      " 0.9859506564126754\n"
     ]
    }
   ],
   "source": [
    "Xapp_opt, Zapp_opt, Xtst_opt, Ztst_opt, mprior_opt, Sprior_opt = data_processing(\n",
    "                                            \"dataset/optdigits.csv\", n_components_pca=20)\n",
    "\n",
    "df_exp_opt = 0.1\n",
    "df_cov_opt = Xapp_opt.shape[1] + 1\n",
    "\n",
    "pi_opt, mu_opt, Sig_opt = QDA(Xapp_opt, Zapp_opt, mprior_opt, df_exp_opt, Sprior_opt, df_cov_opt)\n",
    "prob_opt, pred_opt = evaluation(Xtst_opt, pi_opt, mu_opt, Sig_opt)\n",
    "\n",
    "print('\\n\\n', confusion_matrix(np.argmax(Ztst_opt, axis=1), pred_opt))\n",
    "print('\\n\\n', classification_report(np.argmax(Ztst_opt, axis=1), pred_opt))\n",
    "print('\\n\\n', precision_score(np.argmax(Ztst_opt, axis=1), pred_opt, average='weighted'))"
   ]
  },
  {
   "cell_type": "code",
   "execution_count": 7,
   "metadata": {},
   "outputs": [
    {
     "name": "stdout",
     "output_type": "stream",
     "text": [
      "\n",
      "\n",
      " [[158   0   1   0   0   1   0   0   1   0]\n",
      " [  0 160   0   1   1   0   0   0   1   3]\n",
      " [  0   0 170   0   0   1   0   1   0   0]\n",
      " [  0   0   0 169   0   1   0   0   1   0]\n",
      " [  0   0   0   0 179   0   0   0   0   0]\n",
      " [  0   0   0   2   0 174   0   0   1   4]\n",
      " [  0   0   0   0   0   0 162   0   0   0]\n",
      " [  0   0   0   0   0   0   0 166   1   1]\n",
      " [  0   1   0   2   1   0   0   0 163   2]\n",
      " [  0   0   0   1   2   0   0   2   1 151]]\n",
      "\n",
      "\n",
      "               precision    recall  f1-score   support\n",
      "\n",
      "           0       1.00      0.98      0.99       161\n",
      "           1       0.99      0.96      0.98       166\n",
      "           2       0.99      0.99      0.99       172\n",
      "           3       0.97      0.99      0.98       171\n",
      "           4       0.98      1.00      0.99       179\n",
      "           5       0.98      0.96      0.97       181\n",
      "           6       1.00      1.00      1.00       162\n",
      "           7       0.98      0.99      0.99       168\n",
      "           8       0.96      0.96      0.96       169\n",
      "           9       0.94      0.96      0.95       157\n",
      "\n",
      "    accuracy                           0.98      1686\n",
      "   macro avg       0.98      0.98      0.98      1686\n",
      "weighted avg       0.98      0.98      0.98      1686\n",
      "\n",
      "\n",
      "\n",
      " 0.9800629138620307\n"
     ]
    }
   ],
   "source": [
    "pi_opt_2, mu_opt_2, Sig_opt_2 = QDA_without_prior(Xapp_opt, Zapp_opt)\n",
    "prob_opt_2, pred_opt_2 = evaluation(Xtst_opt, pi_opt_2, mu_opt_2, Sig_opt_2)\n",
    "\n",
    "print('\\n\\n', confusion_matrix(np.argmax(Ztst_opt, axis=1), pred_opt_2))\n",
    "print('\\n\\n', classification_report(np.argmax(Ztst_opt, axis=1), pred_opt_2))\n",
    "print('\\n\\n', precision_score(np.argmax(Ztst_opt, axis=1), pred_opt_2, average='weighted'))"
   ]
  },
  {
   "cell_type": "code",
   "execution_count": 8,
   "metadata": {},
   "outputs": [
    {
     "name": "stdout",
     "output_type": "stream",
     "text": [
      "Ours classes are enumerated as bellow : \n",
      " {0: 0.0, 1: 1.0, 2: 2.0, 3: 3.0, 4: 4.0, 5: 5.0, 6: 6.0, 7: 7.0, 8: 8.0, 9: 9.0}\n",
      "Ours classes are enumerated as bellow : \n",
      " {0: 0.0, 1: 1.0, 2: 2.0, 3: 3.0, 4: 4.0, 5: 5.0, 6: 6.0, 7: 7.0, 8: 8.0, 9: 9.0}\n",
      "Ours classes are enumerated as bellow : \n",
      " {0: 0.0, 1: 1.0, 2: 2.0, 3: 3.0, 4: 4.0, 5: 5.0, 6: 6.0, 7: 7.0, 8: 8.0, 9: 9.0}\n",
      "Ours classes are enumerated as bellow : \n",
      " {0: 0.0, 1: 1.0, 2: 2.0, 3: 3.0, 4: 4.0, 5: 5.0, 6: 6.0, 7: 7.0, 8: 8.0, 9: 9.0}\n",
      "Ours classes are enumerated as bellow : \n",
      " {0: 0.0, 1: 1.0, 2: 2.0, 3: 3.0, 4: 4.0, 5: 5.0, 6: 6.0, 7: 7.0, 8: 8.0, 9: 9.0}\n"
     ]
    },
    {
     "data": {
      "text/plain": [
       "<matplotlib.legend.Legend at 0x7f79ea9d8d90>"
      ]
     },
     "execution_count": 8,
     "metadata": {},
     "output_type": "execute_result"
    },
    {
     "data": {
      "image/png": "[encoded data removed]",
      "text/plain": [
       "<Figure size 432x288 with 1 Axes>"
      ]
     },
     "metadata": {
      "needs_background": "light"
     },
     "output_type": "display_data"
    }
   ],
   "source": [
    "df_exp_opt = 0.1\n",
    "df_cov_opt = Xapp_opt.shape[1] + 1\n",
    "cuts_off = np.array([0.1, 0.2, 0.3, 0.4, 0.5])\n",
    "prediction = np.zeros(len(cuts_off))\n",
    "prediction_without_prior = np.zeros(len(cuts_off))\n",
    "\n",
    "for i in range(len(cuts_off)):\n",
    "    Xapp_opt, Zapp_opt, Xtst_opt, Ztst_opt, mprior_opt, Sprior_opt = data_processing(\n",
    "                                            \"dataset/optdigits.csv\", n_components_pca=10, test_size=cuts_off[i])\n",
    "    \n",
    "    pi_opt, mu_opt, Sig_opt = QDA(Xapp_opt, Zapp_opt, mprior_opt, df_exp_opt, Sprior_opt, df_cov_opt)\n",
    "    prob_opt, pred_opt = evaluation(Xtst_opt, pi_opt, mu_opt, Sig_opt)\n",
    "    prediction[i] = precision_score(np.argmax(Ztst_opt, axis=1), pred_opt, average='weighted')\n",
    "    \n",
    "    pi_opt_2, mu_opt_2, Sig_opt_2 = QDA_without_prior(Xapp_opt, Zapp_opt)\n",
    "    prob_opt_2, pred_opt_2 = evaluation(Xtst_opt, pi_opt_2, mu_opt_2, Sig_opt_2)\n",
    "    prediction_without_prior[i] = precision_score(np.argmax(Ztst_opt, axis=1), pred_opt_2, average='weighted')\n",
    "\n",
    "plt.plot(cuts_off, prediction)\n",
    "plt.plot(cuts_off, prediction_without_prior)\n",
    "plt.legend([\"prior\", \"without_prior\"])"
   ]
  },
  {
   "cell_type": "markdown",
   "metadata": {},
   "source": [
    "## Page Blocks test"
   ]
  },
  {
   "cell_type": "code",
   "execution_count": 9,
   "metadata": {},
   "outputs": [
    {
     "name": "stdout",
     "output_type": "stream",
     "text": [
      "Ours classes are enumerated as bellow : \n",
      " {0: 1.0, 1: 2.0, 2: 3.0, 3: 4.0, 4: 5.0}\n",
      "\n",
      "\n",
      "\n",
      "[[1430   15    2   11   20]\n",
      " [  18   67    0    7    0]\n",
      " [   0    0    6    0    2]\n",
      " [   1    0    1   25    3]\n",
      " [  17    0    1    0   16]]\n",
      "\n",
      "\n",
      "\n",
      "              precision    recall  f1-score   support\n",
      "\n",
      "           0       0.98      0.97      0.97      1478\n",
      "           1       0.82      0.73      0.77        92\n",
      "           2       0.60      0.75      0.67         8\n",
      "           3       0.58      0.83      0.68        30\n",
      "           4       0.39      0.47      0.43        34\n",
      "\n",
      "    accuracy                           0.94      1642\n",
      "   macro avg       0.67      0.75      0.70      1642\n",
      "weighted avg       0.95      0.94      0.94      1642\n",
      "\n",
      "\n",
      "\n",
      "\n",
      "0.9454239984504464\n"
     ]
    }
   ],
   "source": [
    "Xapp_pag, Zapp_pag, Xtst_pag, Ztst_pag, mprior_pag, Sprior_pag = data_processing(\"dataset/page-blocks.csv\")\n",
    "\n",
    "df_exp_pag = 0.1\n",
    "df_cov_pag = Xapp_pag.shape[1] + 20\n",
    "\n",
    "pi_pag, mu_pag, Sig_pag = QDA(Xapp_pag, Zapp_pag, mprior_pag, df_exp_pag, Sprior_pag, df_cov_pag)\n",
    "prob_pag, pred_pag = evaluation(Xtst_pag, pi_pag, mu_pag, Sig_pag)\n",
    "\n",
    "print('\\n\\n')\n",
    "print(confusion_matrix(np.argmax(Ztst_pag, axis=1), pred_pag))\n",
    "print('\\n\\n')\n",
    "print(classification_report(np.argmax(Ztst_pag, axis=1), pred_pag))\n",
    "print('\\n\\n')\n",
    "print(precision_score(np.argmax(Ztst_pag, axis=1), pred_pag, average='weighted'))"
   ]
  },
  {
   "cell_type": "code",
   "execution_count": 10,
   "metadata": {},
   "outputs": [
    {
     "name": "stdout",
     "output_type": "stream",
     "text": [
      "\n",
      "\n",
      " [[1407   21    5   12   33]\n",
      " [  14   68    0   10    0]\n",
      " [   0    0    6    0    2]\n",
      " [   1    0    1   25    3]\n",
      " [  16    0    1    0   17]]\n",
      "\n",
      "\n",
      "               precision    recall  f1-score   support\n",
      "\n",
      "           0       0.98      0.95      0.97      1478\n",
      "           1       0.76      0.74      0.75        92\n",
      "           2       0.46      0.75      0.57         8\n",
      "           3       0.53      0.83      0.65        30\n",
      "           4       0.31      0.50      0.38        34\n",
      "\n",
      "    accuracy                           0.93      1642\n",
      "   macro avg       0.61      0.75      0.66      1642\n",
      "weighted avg       0.94      0.93      0.93      1642\n",
      "\n",
      "\n",
      "\n",
      " 0.9418932225817297\n"
     ]
    }
   ],
   "source": [
    "pi_pag_2, mu_pag_2, Sig_pag_2 = QDA_without_prior(Xapp_pag, Zapp_pag)\n",
    "prob_pag_2, pred_pag_2 = evaluation(Xtst_pag, pi_pag_2, mu_pag_2, Sig_pag_2)\n",
    "\n",
    "print('\\n\\n', confusion_matrix(np.argmax(Ztst_pag, axis=1), pred_pag_2))\n",
    "print('\\n\\n', classification_report(np.argmax(Ztst_pag, axis=1), pred_pag_2))\n",
    "print('\\n\\n', precision_score(np.argmax(Ztst_pag, axis=1), pred_pag_2, average='weighted'))"
   ]
  },
  {
   "cell_type": "code",
   "execution_count": 11,
   "metadata": {},
   "outputs": [
    {
     "name": "stdout",
     "output_type": "stream",
     "text": [
      "Ours classes are enumerated as bellow : \n",
      " {0: 1.0, 1: 2.0, 2: 3.0, 3: 4.0, 4: 5.0}\n",
      "Ours classes are enumerated as bellow : \n",
      " {0: 1.0, 1: 2.0, 2: 3.0, 3: 4.0, 4: 5.0}\n",
      "Ours classes are enumerated as bellow : \n",
      " {0: 1.0, 1: 2.0, 2: 3.0, 3: 4.0, 4: 5.0}\n",
      "Ours classes are enumerated as bellow : \n",
      " {0: 1.0, 1: 2.0, 2: 3.0, 3: 4.0, 4: 5.0}\n",
      "Ours classes are enumerated as bellow : \n",
      " {0: 1.0, 1: 2.0, 2: 3.0, 3: 4.0, 4: 5.0}\n"
     ]
    },
    {
     "data": {
      "text/plain": [
       "<matplotlib.legend.Legend at 0x7f79ea901d50>"
      ]
     },
     "execution_count": 11,
     "metadata": {},
     "output_type": "execute_result"
    },
    {
     "data": {
      "image/png": "[encoded data removed]",
      "text/plain": [
       "<Figure size 432x288 with 1 Axes>"
      ]
     },
     "metadata": {
      "needs_background": "light"
     },
     "output_type": "display_data"
    }
   ],
   "source": [
    "cuts_off = np.array([0.1, 0.2, 0.3, 0.4, 0.5])\n",
    "prediction = np.zeros(len(cuts_off))\n",
    "prediction_without_prior = np.zeros(len(cuts_off))\n",
    "\n",
    "for i in range(len(cuts_off)):\n",
    "    Xapp_pag, Zapp_pag, Xtst_pag, Ztst_pag, mprior_pag, Sprior_pag = data_processing(\"dataset/page-blocks.csv\")\n",
    "\n",
    "    pi_pag, mu_pag, Sig_pag = QDA(Xapp_pag, Zapp_pag, mprior_pag, df_exp_pag, Sprior_pag, df_cov_pag)\n",
    "    prob_pag, pred_pag = evaluation(Xtst_pag, pi_pag, mu_pag, Sig_pag)\n",
    "    prediction[i] = precision_score(np.argmax(Ztst_pag, axis=1), pred_pag, average='weighted')\n",
    "\n",
    "    pi_pag_2, mu_pag_2, Sig_pag_2 = QDA_without_prior(Xapp_pag, Zapp_pag)\n",
    "    prob_pag_2, pred_pag_2 = evaluation(Xtst_pag, pi_pag_2, mu_pag_2, Sig_pag_2)\n",
    "    prediction_without_prior[i] = precision_score(np.argmax(Ztst_pag, axis=1), pred_pag_2, average='weighted')\n",
    "\n",
    "plt.plot(cuts_off, prediction)\n",
    "plt.plot(cuts_off, prediction_without_prior)\n",
    "plt.legend([\"prior\", \"without_prior\"])"
   ]
  },
  {
   "cell_type": "markdown",
   "metadata": {},
   "source": [
    "## Satimage test"
   ]
  },
  {
   "cell_type": "code",
   "execution_count": 12,
   "metadata": {},
   "outputs": [
    {
     "name": "stdout",
     "output_type": "stream",
     "text": [
      "Ours classes are enumerated as bellow : \n",
      " {0: 1.0, 1: 2.0, 2: 3.0, 3: 4.0, 4: 5.0, 5: 7.0}\n",
      "\n",
      "\n",
      "\n",
      "[[439   2   1   0   8   0]\n",
      " [  0 193   0   0   0   0]\n",
      " [  9   5 370   8   4   9]\n",
      " [  0   6  58  46   4  76]\n",
      " [  7  19   0   1 183  12]\n",
      " [  1   8  24  13  19 404]]\n",
      "\n",
      "\n",
      "\n",
      "              precision    recall  f1-score   support\n",
      "\n",
      "           0       0.96      0.98      0.97       450\n",
      "           1       0.83      1.00      0.91       193\n",
      "           2       0.82      0.91      0.86       405\n",
      "           3       0.68      0.24      0.36       190\n",
      "           4       0.84      0.82      0.83       222\n",
      "           5       0.81      0.86      0.83       469\n",
      "\n",
      "    accuracy                           0.85      1929\n",
      "   macro avg       0.82      0.80      0.79      1929\n",
      "weighted avg       0.84      0.85      0.83      1929\n",
      "\n",
      "\n",
      "\n",
      "\n",
      "0.8382416576979054\n"
     ]
    }
   ],
   "source": [
    "Xapp_sat, Zapp_sat, Xtst_sat, Ztst_sat, mprior_sat, Sprior_sat = data_processing(\"dataset/satimage.csv\")\n",
    "\n",
    "df_exp_sat = 0.1\n",
    "df_cov_sat = Xapp_sat.shape[1] + 1\n",
    "\n",
    "pi_sat, mu_sat, Sig_sat = QDA(Xapp_sat, Zapp_sat, mprior_sat, df_exp_sat, Sprior_sat, df_cov_sat)\n",
    "prob_sat, pred_sat = evaluation(Xtst_sat, pi_sat, mu_sat, Sig_sat)\n",
    "\n",
    "print('\\n\\n')\n",
    "print(confusion_matrix(np.argmax(Ztst_sat, axis=1), pred_sat))\n",
    "print('\\n\\n')\n",
    "print(classification_report(np.argmax(Ztst_sat, axis=1), pred_sat))\n",
    "print('\\n\\n')\n",
    "print(precision_score(np.argmax(Ztst_sat, axis=1), pred_sat, average='weighted'))"
   ]
  },
  {
   "cell_type": "code",
   "execution_count": 13,
   "metadata": {},
   "outputs": [
    {
     "name": "stdout",
     "output_type": "stream",
     "text": [
      "\n",
      "\n",
      " [[435   3   3   1   8   0]\n",
      " [  0 193   0   0   0   0]\n",
      " [  9   6 365   8  11   6]\n",
      " [  0   7  52  62   4  65]\n",
      " [ 11  23   3   5 158  22]\n",
      " [  5   7  30  22  25 380]]\n",
      "\n",
      "\n",
      "               precision    recall  f1-score   support\n",
      "\n",
      "           0       0.95      0.97      0.96       450\n",
      "           1       0.81      1.00      0.89       193\n",
      "           2       0.81      0.90      0.85       405\n",
      "           3       0.63      0.33      0.43       190\n",
      "           4       0.77      0.71      0.74       222\n",
      "           5       0.80      0.81      0.81       469\n",
      "\n",
      "    accuracy                           0.83      1929\n",
      "   macro avg       0.79      0.79      0.78      1929\n",
      "weighted avg       0.82      0.83      0.81      1929\n",
      "\n",
      "\n",
      "\n",
      " 0.8164768966795953\n"
     ]
    }
   ],
   "source": [
    "pi_sat_2, mu_sat_2, Sig_sat_2 = QDA_without_prior(Xapp_sat, Zapp_sat)\n",
    "prob_sat_2, pred_sat_2 = evaluation(Xtst_sat, pi_sat_2, mu_sat_2, Sig_sat_2)\n",
    "\n",
    "print('\\n\\n', confusion_matrix(np.argmax(Ztst_sat, axis=1), pred_sat_2))\n",
    "print('\\n\\n', classification_report(np.argmax(Ztst_sat, axis=1), pred_sat_2))\n",
    "print('\\n\\n', precision_score(np.argmax(Ztst_sat, axis=1), pred_sat_2, average='weighted'))"
   ]
  },
  {
   "cell_type": "code",
   "execution_count": 14,
   "metadata": {},
   "outputs": [
    {
     "name": "stdout",
     "output_type": "stream",
     "text": [
      "Ours classes are enumerated as bellow : \n",
      " {0: 1.0, 1: 2.0, 2: 3.0, 3: 4.0, 4: 5.0, 5: 7.0}\n",
      "Ours classes are enumerated as bellow : \n",
      " {0: 1.0, 1: 2.0, 2: 3.0, 3: 4.0, 4: 5.0, 5: 7.0}\n",
      "Ours classes are enumerated as bellow : \n",
      " {0: 1.0, 1: 2.0, 2: 3.0, 3: 4.0, 4: 5.0, 5: 7.0}\n",
      "Ours classes are enumerated as bellow : \n",
      " {0: 1.0, 1: 2.0, 2: 3.0, 3: 4.0, 4: 5.0, 5: 7.0}\n",
      "Ours classes are enumerated as bellow : \n",
      " {0: 1.0, 1: 2.0, 2: 3.0, 3: 4.0, 4: 5.0, 5: 7.0}\n"
     ]
    },
    {
     "data": {
      "text/plain": [
       "<matplotlib.legend.Legend at 0x7f79ea895990>"
      ]
     },
     "execution_count": 14,
     "metadata": {},
     "output_type": "execute_result"
    },
    {
     "data": {
      "image/png": "[encoded data removed]",
      "text/plain": [
       "<Figure size 432x288 with 1 Axes>"
      ]
     },
     "metadata": {
      "needs_background": "light"
     },
     "output_type": "display_data"
    }
   ],
   "source": [
    "cuts_off = np.array([0.1, 0.2, 0.3, 0.4, 0.5])\n",
    "prediction = np.zeros(len(cuts_off))\n",
    "prediction_without_prior = np.zeros(len(cuts_off))\n",
    "\n",
    "for i in range(len(cuts_off)):\n",
    "    Xapp_sat, Zapp_sat, Xtst_sat, Ztst_sat, mprior_sat, Sprior_sat = data_processing(\"dataset/satimage.csv\")\n",
    "\n",
    "    pi_sat, mu_sat, Sig_sat = QDA(Xapp_sat, Zapp_sat, mprior_sat, df_exp_sat, Sprior_sat, df_cov_sat)\n",
    "    prob_sat, pred_sat = evaluation(Xtst_sat, pi_sat, mu_sat, Sig_sat)\n",
    "    prediction[i] = precision_score(np.argmax(Ztst_sat, axis=1), pred_sat, average='weighted')\n",
    "\n",
    "    pi_sat_2, mu_sat_2, Sig_sat_2 = QDA_without_prior(Xapp_sat, Zapp_sat)\n",
    "    prob_sat_2, pred_sat_2 = evaluation(Xtst_sat, pi_sat_2, mu_sat_2, Sig_sat_2)\n",
    "    prediction_without_prior[i] = precision_score(np.argmax(Ztst_sat, axis=1), pred_sat_2, average='weighted')\n",
    "\n",
    "plt.plot(cuts_off, prediction)\n",
    "plt.plot(cuts_off, prediction_without_prior)\n",
    "plt.legend([\"prior\", \"without_prior\"])"
   ]
  },
  {
   "cell_type": "markdown",
   "metadata": {},
   "source": [
    "## Segment test"
   ]
  },
  {
   "cell_type": "code",
   "execution_count": 15,
   "metadata": {},
   "outputs": [
    {
     "name": "stdout",
     "output_type": "stream",
     "text": [
      "Ours classes are enumerated as bellow : \n",
      " {0: 'brickface', 1: 'cement', 2: 'foliage', 3: 'grass', 4: 'path', 5: 'sky', 6: 'window'}\n",
      "\n",
      "\n",
      "\n",
      "[[ 93   1   0   0   0   0   2]\n",
      " [  0  94   2   0   0   0   3]\n",
      " [  0   1  65   0   0   0  28]\n",
      " [  0   0   0 100   0   0   3]\n",
      " [  0   2   2   0  95   0   1]\n",
      " [  0   0   0   0   0  85   0]\n",
      " [  0  34   5   0   0   0  77]]\n",
      "\n",
      "\n",
      "\n",
      "              precision    recall  f1-score   support\n",
      "\n",
      "           0       1.00      0.97      0.98        96\n",
      "           1       0.71      0.95      0.81        99\n",
      "           2       0.88      0.69      0.77        94\n",
      "           3       1.00      0.97      0.99       103\n",
      "           4       1.00      0.95      0.97       100\n",
      "           5       1.00      1.00      1.00        85\n",
      "           6       0.68      0.66      0.67       116\n",
      "\n",
      "    accuracy                           0.88       693\n",
      "   macro avg       0.90      0.88      0.89       693\n",
      "weighted avg       0.89      0.88      0.88       693\n",
      "\n",
      "\n",
      "\n",
      "\n",
      "0.8880497038391775\n"
     ]
    }
   ],
   "source": [
    "Xapp_seg, Zapp_seg, Xtst_seg, Ztst_seg, mprior_seg, Sprior_seg = data_processing(\"dataset/segment.csv\",\n",
    "                                                                                n_components_pca=18)\n",
    "\n",
    "df_exp_seg = 0.5\n",
    "df_cov_seg = Xapp_seg.shape[1] + 1\n",
    "\n",
    "pi_seg, mu_seg, Sig_seg = QDA(Xapp_seg, Zapp_seg, mprior_seg, df_exp_seg, Sprior_seg, df_cov_seg)\n",
    "prob_seg, pred_seg = evaluation(Xtst_seg, pi_seg, mu_seg, Sig_seg)\n",
    "\n",
    "print('\\n\\n')\n",
    "print(confusion_matrix(np.argmax(Ztst_seg, axis=1), pred_seg))\n",
    "print('\\n\\n')\n",
    "print(classification_report(np.argmax(Ztst_seg, axis=1), pred_seg))\n",
    "print('\\n\\n')\n",
    "print(precision_score(np.argmax(Ztst_seg, axis=1), pred_seg, average='weighted'))"
   ]
  },
  {
   "cell_type": "code",
   "execution_count": 16,
   "metadata": {},
   "outputs": [
    {
     "name": "stdout",
     "output_type": "stream",
     "text": [
      "\n",
      "\n",
      " [[ 93   1   0   0   0   0   2]\n",
      " [  0  92   3   0   0   0   4]\n",
      " [  0   1  65   0   0   0  28]\n",
      " [  0   0   0 101   0   0   2]\n",
      " [  0   0   3   0  96   0   1]\n",
      " [  0   0   0   0   0  85   0]\n",
      " [  0  13   5   0   0   0  98]]\n",
      "\n",
      "\n",
      "               precision    recall  f1-score   support\n",
      "\n",
      "           0       1.00      0.97      0.98        96\n",
      "           1       0.86      0.93      0.89        99\n",
      "           2       0.86      0.69      0.76        94\n",
      "           3       1.00      0.98      0.99       103\n",
      "           4       1.00      0.96      0.98       100\n",
      "           5       1.00      1.00      1.00        85\n",
      "           6       0.73      0.84      0.78       116\n",
      "\n",
      "    accuracy                           0.91       693\n",
      "   macro avg       0.92      0.91      0.91       693\n",
      "weighted avg       0.91      0.91      0.91       693\n",
      "\n",
      "\n",
      "\n",
      " 0.9144641263731825\n"
     ]
    }
   ],
   "source": [
    "pi_seg_2, mu_seg_2, Sig_seg_2 = QDA_without_prior(Xapp_seg, Zapp_seg)\n",
    "prob_seg_2, pred_seg_2 = evaluation(Xtst_seg, pi_seg_2, mu_seg_2, Sig_seg_2)\n",
    "\n",
    "\n",
    "print('\\n\\n', confusion_matrix(np.argmax(Ztst_seg, axis=1), pred_seg_2))\n",
    "print('\\n\\n', classification_report(np.argmax(Ztst_seg, axis=1), pred_seg_2))\n",
    "print('\\n\\n', precision_score(np.argmax(Ztst_seg, axis=1), pred_seg_2, average='weighted'))"
   ]
  },
  {
   "cell_type": "code",
   "execution_count": 17,
   "metadata": {},
   "outputs": [
    {
     "name": "stdout",
     "output_type": "stream",
     "text": [
      "Ours classes are enumerated as bellow : \n",
      " {0: 'brickface', 1: 'cement', 2: 'foliage', 3: 'grass', 4: 'path', 5: 'sky', 6: 'window'}\n",
      "Ours classes are enumerated as bellow : \n",
      " {0: 'brickface', 1: 'cement', 2: 'foliage', 3: 'grass', 4: 'path', 5: 'sky', 6: 'window'}\n",
      "Ours classes are enumerated as bellow : \n",
      " {0: 'brickface', 1: 'cement', 2: 'foliage', 3: 'grass', 4: 'path', 5: 'sky', 6: 'window'}\n",
      "Ours classes are enumerated as bellow : \n",
      " {0: 'brickface', 1: 'cement', 2: 'foliage', 3: 'grass', 4: 'path', 5: 'sky', 6: 'window'}\n",
      "Ours classes are enumerated as bellow : \n",
      " {0: 'brickface', 1: 'cement', 2: 'foliage', 3: 'grass', 4: 'path', 5: 'sky', 6: 'window'}\n"
     ]
    },
    {
     "data": {
      "text/plain": [
       "<matplotlib.legend.Legend at 0x7f79e79f5dd0>"
      ]
     },
     "execution_count": 17,
     "metadata": {},
     "output_type": "execute_result"
    },
    {
     "data": {
      "image/png": "[encoded data removed]",
      "text/plain": [
       "<Figure size 432x288 with 1 Axes>"
      ]
     },
     "metadata": {
      "needs_background": "light"
     },
     "output_type": "display_data"
    }
   ],
   "source": [
    "cuts_off = np.array([0.1, 0.2, 0.3, 0.4, 0.5])\n",
    "prediction = np.zeros(len(cuts_off))\n",
    "prediction_without_prior = np.zeros(len(cuts_off))\n",
    "\n",
    "for i in range(len(cuts_off)):\n",
    "    Xapp_seg, Zapp_seg, Xtst_seg, Ztst_seg, mprior_seg, Sprior_seg = data_processing(\"dataset/segment.csv\",\n",
    "                                                                                n_components_pca=18)\n",
    "\n",
    "    pi_seg, mu_seg, Sig_seg = QDA(Xapp_seg, Zapp_seg, mprior_seg, df_exp_seg, Sprior_seg, df_cov_seg)\n",
    "    prob_seg, pred_seg = evaluation(Xtst_seg, pi_seg, mu_seg, Sig_seg)\n",
    "    prediction[i] = precision_score(np.argmax(Ztst_seg, axis=1), pred_seg, average='weighted')\n",
    "\n",
    "    pi_seg_2, mu_seg_2, Sig_seg_2 = QDA_without_prior(Xapp_seg, Zapp_seg)\n",
    "    prob_seg_2, pred_seg_2 = evaluation(Xtst_seg, pi_seg_2, mu_seg_2, Sig_seg_2)\n",
    "    prediction_without_prior[i] = precision_score(np.argmax(Ztst_seg, axis=1), pred_seg_2, average='weighted')\n",
    "\n",
    "plt.plot(cuts_off, prediction)\n",
    "plt.plot(cuts_off, prediction_without_prior)\n",
    "plt.legend([\"prior\", \"without_prior\"])"
   ]
  },
  {
   "cell_type": "code",
   "execution_count": 18,
   "metadata": {},
   "outputs": [],
   "source": [
    "# 0.9766310415063318 1;p+20 ll\n",
    "# 0.9758926103474012 10;p+20\n",
    "# 0.9671482548426473 10;p+300 \n",
    "# v reprensent the least informative -> v high -> cov lower -> more \"confident\" ????\n",
    "# high df_cov -> Sig =~~ sampling covariance matrix (in this case Sprior)"
   ]
  }
 ],
 "metadata": {
  "kernelspec": {
   "display_name": "Python 3",
   "language": "python",
   "name": "python3"
  },
  "language_info": {
   "codemirror_mode": {
    "name": "ipython",
    "version": 3
   },
   "file_extension": ".py",
   "mimetype": "text/x-python",
   "name": "python",
   "nbconvert_exporter": "python",
   "pygments_lexer": "ipython3",
   "version": "3.7.5"
  }
 },
 "nbformat": 4,
 "nbformat_minor": 2
}
