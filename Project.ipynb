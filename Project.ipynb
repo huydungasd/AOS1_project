{
 "cells": [
  {
   "cell_type": "code",
   "execution_count": 1,
   "metadata": {},
   "outputs": [],
   "source": [
    "from typing import Tuple\n",
    "import pandas as pd\n",
    "import collections\n",
    "import numpy as np\n",
    "import matplotlib.pyplot as plt\n",
    "np.seterr(divide='ignore', invalid='ignore')\n",
    "\n",
    "from sklearn.metrics import confusion_matrix, classification_report, precision_score\n",
    "from sklearn.decomposition import PCA\n",
    "from sklearn.model_selection import train_test_split"
   ]
  },
  {
   "cell_type": "markdown",
   "metadata": {},
   "source": [
    "## Define functions\n",
    "\n",
    "The function for training `QDA` :\n",
    "- takes the inputs : $X_{app}$ (training input matrix $n, p$), $z_{app}$ (binary class indicator matrix $n, K$), $m_{prior}$ (Gaussian prior expectation matrix $K, p$), $df_{exp}$ (Gaussian prior shrinkage parameter), $S_{prior}$ (covariance matrix $p, p, K$ for the inverse -Wishart prior), $df_{cov}$ (degree of freedom of the inverse-Wishart prior)\n",
    "- provides : $pi$ (vector $K, 1$ of class proportions), $mu$ (estimated expectation matrix $K, p$), $Sig$ (estimated covariance matrices $p, p, K$)"
   ]
  },
  {
   "cell_type": "code",
   "execution_count": 2,
   "metadata": {},
   "outputs": [],
   "source": [
    "def data_processing(file_url : str,\n",
    "                    n_components_pca : int = None,\n",
    "                    test_size : float = 0.3) -> Tuple:\n",
    "    \"\"\"\n",
    "    :param file_url: Path to dataset file\n",
    "    :param n_components_pca : Number of principal components we extract from the dataset\n",
    "    :param test_size : Number from 0 to 1, the portion of test set\n",
    "    \"\"\"\n",
    "    # read data from cvs file and convert it into numpy array\n",
    "    data = pd.read_csv(file_url, header=0)\n",
    "    data = data.to_numpy()\n",
    "    \n",
    "    # apply PCA if necessary\n",
    "    if n_components_pca is not None:\n",
    "        data_y = data[:, -1]\n",
    "        data_X = data[:, :-1]\n",
    "        pca = PCA(n_components=n_components_pca)\n",
    "        data_X = pca.fit_transform(data_X)\n",
    "        data = np.hstack((data_X, data_y.reshape((-1,1))))\n",
    "    \n",
    "    # transform outputs (labels) into indices to easier manipulate\n",
    "    classes = sorted(collections.Counter(list(data[:, -1])).keys())\n",
    "    classes_with_index = {}\n",
    "    K = len(classes)\n",
    "    n, p = data.shape[0], data.shape[1] - 1\n",
    "    for i_class in range(K):\n",
    "        classes_with_index[i_class] = classes[i_class]\n",
    "        data[data[:, -1] == classes[i_class], -1] = i_class\n",
    "    print(\"Ours classes are enumerated as bellow : \\n\", classes_with_index)\n",
    "    \n",
    "    # split data to training set and test set\n",
    "    if test_size > 1 or test_size < 0:\n",
    "        raise IndexError(\"invalid value of test_size\")\n",
    "    else:\n",
    "        Xapp, Xtst, yapp, ytst = train_test_split(data[:, :-1], data[:, -1],\n",
    "                                                  test_size=test_size)\n",
    "        Zapp = np.zeros((len(yapp), K))\n",
    "        Ztst = np.zeros((len(ytst), K))\n",
    "        for i in range(len(yapp)):\n",
    "            Zapp[i, int(yapp[i])] = 1\n",
    "        for i in range(len(ytst)):\n",
    "            Ztst[i, int(ytst[i])] = 1\n",
    "    \n",
    "    # compute mprior (expected value) and Sprior (covariance's matrices)\n",
    "    mprior = np.zeros((K, p))\n",
    "    Sprior = np.zeros((p, p, K))\n",
    "    for j in range(K):\n",
    "        temp = data[data[:, -1] == j, :-1]\n",
    "        temp = temp.astype(float)\n",
    "        mprior[j, :] = temp.mean(axis = 0)\n",
    "        Sprior[:, :, j] = np.cov(temp, rowvar=False)\n",
    "    return Xapp, Zapp, Xtst, Ztst, mprior, Sprior"
   ]
  },
  {
   "cell_type": "markdown",
   "metadata": {},
   "source": [
    "We define a `data_processing` function to test different dataset. The function does respectively :\n",
    "- Read the dataset by the `pandas` library and transform it to the one in form of the `numpy` library in order to facilitate our next works.\n",
    "- Apply PCA filtering process to the dataset if necessary.\n",
    "- Sort all classes of the dataset and display their enumeration\n",
    "- Separate the dataset into training and test ones by `cut_off` coefficient predefined at `0.9`\n",
    "- Calculate the prior expectation and variance based on the training set"
   ]
  },
  {
   "cell_type": "code",
   "execution_count": 3,
   "metadata": {},
   "outputs": [],
   "source": [
    "def QDA(Xapp : np.array,\n",
    "        zapp  : np.array,\n",
    "        mprior : np.array,\n",
    "        df_exp : float,\n",
    "        Sprior : np.array,\n",
    "        df_cov : float) -> Tuple:\n",
    "    \"\"\"\n",
    "    :param Xapp: feature of training set\n",
    "    :param zapp : label of training set\n",
    "    :param mprior : emperical prior of expected value\n",
    "    :param df_exp : shrinkage parameter\n",
    "    :param Sprior : emperical prior of covariance matrices\n",
    "    :param df_cov : degrees of freedom of the inverse-Wishart prior\n",
    "    \"\"\"\n",
    "    \n",
    "    # n : number of samples, p : number of feature, K : number of classes\n",
    "    n, p, K =  Xapp.shape[0], Xapp.shape[1], zapp.shape[1]\n",
    "    \n",
    "    # compute estimators of pi, mu, Sig\n",
    "    pi = np.zeros(K)\n",
    "    mu = np.zeros((K, p))\n",
    "    B = np.zeros((p, p, n))\n",
    "    Sig = np.zeros((p, p, K))\n",
    "    \n",
    "    pi = np.mean(zapp, axis=0)\n",
    "    for j in range(K):\n",
    "        mu[j, :] = (sum(zapp[i, j] * Xapp[i, :] for i in range(n)) \n",
    "                    + df_exp * mprior[j, :]) / (sum(zapp[:, j]) + df_exp)\n",
    "        \n",
    "        for i in range(n):\n",
    "            temp = (Xapp[i, :] - mprior[j, :]).reshape((p, -1))\n",
    "            B[:, :, i] = temp @ temp.T\n",
    "        \n",
    "        Sig[:, :, j] = (sum((zapp[i, j] * B[:, :, i]) for i in range(n)) + \n",
    "                        df_exp * (mu[j, :] - mprior[j, :]) @ (mu[j, :] - \n",
    "                                                              mprior[j, :]).T + \n",
    "                        Sprior[:, :, j].T) / (sum(zapp[:, j]) + df_cov + p + 2)\n",
    "    return pi, mu, Sig"
   ]
  },
  {
   "cell_type": "code",
   "execution_count": 4,
   "metadata": {},
   "outputs": [],
   "source": [
    "def QDA_without_prior(Xapp : np.array,\n",
    "                      zapp  : np.array) -> Tuple:\n",
    "    \"\"\"\n",
    "    :param Xapp: feature of training set\n",
    "    :param zapp : label of training set\n",
    "    \"\"\"\n",
    "    # n : number of samples, p : number of feature, K : number of classes\n",
    "    n, p, K =  Xapp.shape[0], Xapp.shape[1], zapp.shape[1]\n",
    "    \n",
    "    # compute estimators of pi, mu, Sig\n",
    "    pi = np.zeros(K)\n",
    "    mu = np.zeros((K, p))\n",
    "    B = np.zeros((p, p, n))\n",
    "    Sig = np.zeros((p, p, K))\n",
    "    \n",
    "    pi = np.mean(zapp, axis=0)\n",
    "    for j in range(K):\n",
    "        mu[j, :] = sum(zapp[i, j] * Xapp[i, :] for i in range(n))\n",
    "        \n",
    "        for i in range(n):\n",
    "            temp = (Xapp[i, :] - mu[j, :]).reshape((p, -1))\n",
    "            \n",
    "            B[:, :, i] = temp @ temp.T\n",
    "        \n",
    "        Sig[:, :, j] = sum((zapp[i, j] *\n",
    "                            B[:, :, i]) for i in range(n)) / sum(zapp[:, j])\n",
    "    return pi, mu, Sig"
   ]
  },
  {
   "cell_type": "markdown",
   "metadata": {},
   "source": [
    "The function for evaluating test set `evaluation` :\n",
    "- takes the inputs : $X_{tst}$ (test input matrix $n, p$), $pi$ (vector $K, 1$ of class proportions), $mu$ (estimated expectation matrix $K, p$), $Sig$ (estimated covariance matrices $p, p, K$)\n",
    "- provides : $prob$ (matrix $n, K$ of estimated class posterior probabilities) and $pred$ (vector $n, 1$ of corresponding decisions)"
   ]
  },
  {
   "cell_type": "code",
   "execution_count": 5,
   "metadata": {},
   "outputs": [],
   "source": [
    "def evaluation(Xtst : np.array,\n",
    "               pi : np.array,\n",
    "               mu : np.array,\n",
    "               Sig : np.array) -> Tuple:\n",
    "    \"\"\"\n",
    "    :param Xtst: feature of test set\n",
    "    :param pi : estimator of  class proportions\n",
    "    :param mu : estimator of  expectations\n",
    "    :param Sig : estimator of  covariance matrices\n",
    "    \"\"\"\n",
    "    # n : number of samples, p : number of feature, K : number of classes\n",
    "    n, p, K = Xtst.shape[0], Xtst.shape[1], len(pi)\n",
    "    \n",
    "    prob = np.zeros((n, K))\n",
    "    pred = np.zeros(n)\n",
    "    \n",
    "    # function which compute density\n",
    "    f = lambda x, mu, Sig: (2*np.pi)**(-len(x)/2) * np.linalg.det(Sig)**(-1/2) * np.exp((-1/2) *(x - mu).T\n",
    "                                                                                        @ np.linalg.inv(Sig)\n",
    "                                                                                        @ (x - mu))\n",
    "   \n",
    "    # compute probabilitie's vector for K classes\n",
    "    for j in range(K):\n",
    "        for i in range(n):\n",
    "            total = sum(pi[k] * f(Xtst[i, :], mu[k, :],\n",
    "                                  Sig[:, :, k]) for k in range(K))\n",
    "            prob[i, j] = pi[j] * f(Xtst[i, :], mu[j, :], Sig[:, :, j]) / total\n",
    "        \n",
    "    pred = np.argmax(prob, axis=1)\n",
    "    \n",
    "    return prob, pred"
   ]
  },
  {
   "cell_type": "markdown",
   "metadata": {},
   "source": [
    "## Optdigits test"
   ]
  },
  {
   "cell_type": "code",
   "execution_count": 6,
   "metadata": {},
   "outputs": [
    {
     "name": "stdout",
     "output_type": "stream",
     "text": [
      "Ours classes are enumerated as bellow : \n",
      " {0: 0.0, 1: 1.0, 2: 2.0, 3: 3.0, 4: 4.0, 5: 5.0, 6: 6.0, 7: 7.0, 8: 8.0, 9: 9.0}\n",
      "-----------------------------------------------------------\n",
      "\n",
      "\n",
      "Confusion matrix\n",
      "\n",
      " [[178   0   0   0   3   0   0   0   0   0]\n",
      " [  0 156   0   0   1   0   0   0   1   1]\n",
      " [  0   1 168   0   0   0   0   0   1   0]\n",
      " [  0   0   0 156   0   1   0   1   1   1]\n",
      " [  0   0   0   0 163   0   0   2   0   1]\n",
      " [  0   0   0   1   0 164   0   0   1   6]\n",
      " [  0   1   0   0   0   0 171   0   0   0]\n",
      " [  0   2   0   0   1   0   0 174   0   0]\n",
      " [  0   8   0   2   0   0   0   1 149   2]\n",
      " [  0   1   0   2   0   1   0   7   2 154]]\n",
      "-----------------------------------------------------------\n",
      "\n",
      "\n",
      "Classification report\n",
      "\n",
      "               precision    recall  f1-score   support\n",
      "\n",
      "           0       1.00      0.98      0.99       181\n",
      "           1       0.92      0.98      0.95       159\n",
      "           2       1.00      0.99      0.99       170\n",
      "           3       0.97      0.97      0.97       160\n",
      "           4       0.97      0.98      0.98       166\n",
      "           5       0.99      0.95      0.97       172\n",
      "           6       1.00      0.99      1.00       172\n",
      "           7       0.94      0.98      0.96       177\n",
      "           8       0.96      0.92      0.94       162\n",
      "           9       0.93      0.92      0.93       167\n",
      "\n",
      "    accuracy                           0.97      1686\n",
      "   macro avg       0.97      0.97      0.97      1686\n",
      "weighted avg       0.97      0.97      0.97      1686\n",
      "\n",
      "-----------------------------------------------------------\n",
      "\n",
      "\n",
      "Precision score\n",
      "\n",
      " 0.9690740782462373\n"
     ]
    }
   ],
   "source": [
    "Xapp_opt, Zapp_opt, Xtst_opt, Ztst_opt, mprior_opt, Sprior_opt = data_processing(\n",
    "                                            \"dataset/optdigits.csv\", n_components_pca=10)\n",
    "\n",
    "df_exp_opt = 0.1\n",
    "df_cov_opt = Xapp_opt.shape[1] + 1\n",
    "\n",
    "pi_opt, mu_opt, Sig_opt = QDA(Xapp_opt, Zapp_opt, mprior_opt, df_exp_opt, Sprior_opt, df_cov_opt)\n",
    "prob_opt, pred_opt = evaluation(Xtst_opt, pi_opt, mu_opt, Sig_opt)\n",
    "\n",
    "print(\"-----------------------------------------------------------\\n\\n\")\n",
    "print(\"Confusion matrix\")\n",
    "print('\\n', confusion_matrix(np.argmax(Ztst_opt, axis=1), pred_opt))\n",
    "print(\"-----------------------------------------------------------\\n\\n\")\n",
    "print(\"Classification report\")\n",
    "print('\\n', classification_report(np.argmax(Ztst_opt, axis=1), pred_opt))\n",
    "print(\"-----------------------------------------------------------\\n\\n\")\n",
    "print(\"Precision score\")\n",
    "print('\\n', precision_score(np.argmax(Ztst_opt, axis=1), pred_opt, average='weighted'))"
   ]
  },
  {
   "cell_type": "code",
   "execution_count": 7,
   "metadata": {},
   "outputs": [
    {
     "name": "stdout",
     "output_type": "stream",
     "text": [
      "-----------------------------------------------------------\n",
      "\n",
      "\n",
      "Confusion matrix\n",
      "\n",
      " [[176   0   0   0   4   0   0   0   0   1]\n",
      " [  0 151   0   1   1   2   0   0   3   1]\n",
      " [  0   3 164   0   0   3   0   0   0   0]\n",
      " [  0   0   1 153   1   1   1   2   1   0]\n",
      " [  0   0   2   0 162   0   0   2   0   0]\n",
      " [  0   0   0   2   0 157   0   0   4   9]\n",
      " [  0   0   0   1   0   0 167   1   1   2]\n",
      " [  0   3   1   1   1   1   0 168   2   0]\n",
      " [  0  10   1   7   2   0   0   0 138   4]\n",
      " [  0   1   0   2   1   2   3   7   4 147]]\n",
      "-----------------------------------------------------------\n",
      "\n",
      "\n",
      "Classification report\n",
      "\n",
      "               precision    recall  f1-score   support\n",
      "\n",
      "           0       1.00      0.97      0.99       181\n",
      "           1       0.90      0.95      0.92       159\n",
      "           2       0.97      0.96      0.97       170\n",
      "           3       0.92      0.96      0.94       160\n",
      "           4       0.94      0.98      0.96       166\n",
      "           5       0.95      0.91      0.93       172\n",
      "           6       0.98      0.97      0.97       172\n",
      "           7       0.93      0.95      0.94       177\n",
      "           8       0.90      0.85      0.88       162\n",
      "           9       0.90      0.88      0.89       167\n",
      "\n",
      "    accuracy                           0.94      1686\n",
      "   macro avg       0.94      0.94      0.94      1686\n",
      "weighted avg       0.94      0.94      0.94      1686\n",
      "\n",
      "-----------------------------------------------------------\n",
      "\n",
      "\n",
      "Precision score\n",
      "\n",
      " 0.9391902553231838\n"
     ]
    }
   ],
   "source": [
    "pi_opt_2, mu_opt_2, Sig_opt_2 = QDA_without_prior(Xapp_opt, Zapp_opt)\n",
    "prob_opt_2, pred_opt_2 = evaluation(Xtst_opt, pi_opt_2, mu_opt_2, Sig_opt_2)\n",
    "\n",
    "print(\"-----------------------------------------------------------\\n\\n\")\n",
    "print(\"Confusion matrix\")\n",
    "print('\\n', confusion_matrix(np.argmax(Ztst_opt, axis=1), pred_opt_2))\n",
    "print(\"-----------------------------------------------------------\\n\\n\")\n",
    "print(\"Classification report\")\n",
    "print('\\n', classification_report(np.argmax(Ztst_opt, axis=1), pred_opt_2))\n",
    "print(\"-----------------------------------------------------------\\n\\n\")\n",
    "print(\"Precision score\")\n",
    "print('\\n', precision_score(np.argmax(Ztst_opt, axis=1), pred_opt_2, average='weighted'))"
   ]
  },
  {
   "cell_type": "code",
   "execution_count": 8,
   "metadata": {},
   "outputs": [
    {
     "name": "stdout",
     "output_type": "stream",
     "text": [
      "Ours classes are enumerated as bellow : \n",
      " {0: 0.0, 1: 1.0, 2: 2.0, 3: 3.0, 4: 4.0, 5: 5.0, 6: 6.0, 7: 7.0, 8: 8.0, 9: 9.0}\n",
      "Ours classes are enumerated as bellow : \n",
      " {0: 0.0, 1: 1.0, 2: 2.0, 3: 3.0, 4: 4.0, 5: 5.0, 6: 6.0, 7: 7.0, 8: 8.0, 9: 9.0}\n",
      "Ours classes are enumerated as bellow : \n",
      " {0: 0.0, 1: 1.0, 2: 2.0, 3: 3.0, 4: 4.0, 5: 5.0, 6: 6.0, 7: 7.0, 8: 8.0, 9: 9.0}\n",
      "Ours classes are enumerated as bellow : \n",
      " {0: 0.0, 1: 1.0, 2: 2.0, 3: 3.0, 4: 4.0, 5: 5.0, 6: 6.0, 7: 7.0, 8: 8.0, 9: 9.0}\n",
      "Ours classes are enumerated as bellow : \n",
      " {0: 0.0, 1: 1.0, 2: 2.0, 3: 3.0, 4: 4.0, 5: 5.0, 6: 6.0, 7: 7.0, 8: 8.0, 9: 9.0}\n"
     ]
    },
    {
     "data": {
      "image/png": "[encoded data removed]",
      "text/plain": [
       "<Figure size 1080x576 with 1 Axes>"
      ]
     },
     "metadata": {
      "needs_background": "light"
     },
     "output_type": "display_data"
    }
   ],
   "source": [
    "test_size = np.array([0.1, 0.2, 0.3, 0.4, 0.5])\n",
    "prediction = np.zeros(len(test_size))\n",
    "prediction_without_prior = np.zeros(len(test_size))\n",
    "\n",
    "for i in range(len(test_size)):\n",
    "    Xapp_opt, Zapp_opt, Xtst_opt, Ztst_opt, mprior_opt, Sprior_opt = data_processing(\n",
    "                                            \"dataset/optdigits.csv\", n_components_pca=10, test_size=test_size[i])\n",
    "    \n",
    "    pi_opt, mu_opt, Sig_opt = QDA(Xapp_opt, Zapp_opt, mprior_opt, df_exp_opt, Sprior_opt, df_cov_opt)\n",
    "    prob_opt, pred_opt = evaluation(Xtst_opt, pi_opt, mu_opt, Sig_opt)\n",
    "    prediction[i] = precision_score(np.argmax(Ztst_opt, axis=1), pred_opt, average='weighted')\n",
    "    \n",
    "    pi_opt_2, mu_opt_2, Sig_opt_2 = QDA_without_prior(Xapp_opt, Zapp_opt)\n",
    "    prob_opt_2, pred_opt_2 = evaluation(Xtst_opt, pi_opt_2, mu_opt_2, Sig_opt_2)\n",
    "    prediction_without_prior[i] = precision_score(np.argmax(Ztst_opt, axis=1), pred_opt_2, average='weighted')\n",
    "\n",
    "plt.figure(figsize=(15, 8))\n",
    "plt.plot(test_size, prediction)\n",
    "plt.plot(test_size, prediction_without_prior)\n",
    "plt.xlabel(\"Test set portion\")\n",
    "plt.ylabel(\"Percentage of good prediction\")\n",
    "plt.legend([\"prior\", \"without_prior\"])\n",
    "plt.show()"
   ]
  },
  {
   "cell_type": "markdown",
   "metadata": {},
   "source": [
    "## Page Blocks test"
   ]
  },
  {
   "cell_type": "code",
   "execution_count": 9,
   "metadata": {},
   "outputs": [
    {
     "name": "stdout",
     "output_type": "stream",
     "text": [
      "Ours classes are enumerated as bellow : \n",
      " {0: 1.0, 1: 2.0, 2: 3.0, 3: 4.0, 4: 5.0}\n",
      "-----------------------------------------------------------\n",
      "\n",
      "\n",
      "Confusion matrix\n",
      "\n",
      " [[1337   19    2   77   24]\n",
      " [  18   76    0   12    1]\n",
      " [   0    0    7    0    4]\n",
      " [   0    0    0   30    1]\n",
      " [   8    0    2    6   18]]\n",
      "-----------------------------------------------------------\n",
      "\n",
      "\n",
      "Classification report\n",
      "\n",
      "               precision    recall  f1-score   support\n",
      "\n",
      "           0       0.98      0.92      0.95      1459\n",
      "           1       0.80      0.71      0.75       107\n",
      "           2       0.64      0.64      0.64        11\n",
      "           3       0.24      0.97      0.38        31\n",
      "           4       0.38      0.53      0.44        34\n",
      "\n",
      "    accuracy                           0.89      1642\n",
      "   macro avg       0.61      0.75      0.63      1642\n",
      "weighted avg       0.94      0.89      0.91      1642\n",
      "\n",
      "-----------------------------------------------------------\n",
      "\n",
      "\n",
      "Precision score\n",
      "\n",
      " 0.9402915623718189\n"
     ]
    }
   ],
   "source": [
    "Xapp_pag, Zapp_pag, Xtst_pag, Ztst_pag, mprior_pag, Sprior_pag = data_processing(\"dataset/page-blocks.csv\",\n",
    "                                                                                    n_components_pca=8)\n",
    "\n",
    "df_exp_pag = 0.1\n",
    "df_cov_pag = Xapp_pag.shape[1] + 20\n",
    "\n",
    "pi_pag, mu_pag, Sig_pag = QDA(Xapp_pag, Zapp_pag, mprior_pag, df_exp_pag, Sprior_pag, df_cov_pag)\n",
    "prob_pag, pred_pag = evaluation(Xtst_pag, pi_pag, mu_pag, Sig_pag)\n",
    "\n",
    "print(\"-----------------------------------------------------------\\n\\n\")\n",
    "print(\"Confusion matrix\")\n",
    "print('\\n', confusion_matrix(np.argmax(Ztst_pag, axis=1), pred_pag))\n",
    "print(\"-----------------------------------------------------------\\n\\n\")\n",
    "print(\"Classification report\")\n",
    "print('\\n', classification_report(np.argmax(Ztst_pag, axis=1), pred_pag))\n",
    "print(\"-----------------------------------------------------------\\n\\n\")\n",
    "print(\"Precision score\")\n",
    "print('\\n', precision_score(np.argmax(Ztst_pag, axis=1), pred_pag, average='weighted'))"
   ]
  },
  {
   "cell_type": "code",
   "execution_count": 10,
   "metadata": {},
   "outputs": [
    {
     "name": "stdout",
     "output_type": "stream",
     "text": [
      "-----------------------------------------------------------\n",
      "\n",
      "\n",
      "Confusion matrix\n",
      "\n",
      " [[1078   18    3  323   37]\n",
      " [  28   63    0   14    2]\n",
      " [   0    0    7    0    4]\n",
      " [   0    0    0   31    0]\n",
      " [   5    0    3    8   18]]\n",
      "-----------------------------------------------------------\n",
      "\n",
      "\n",
      "Classification report\n",
      "\n",
      "               precision    recall  f1-score   support\n",
      "\n",
      "           0       0.97      0.74      0.84      1459\n",
      "           1       0.78      0.59      0.67       107\n",
      "           2       0.54      0.64      0.58        11\n",
      "           3       0.08      1.00      0.15        31\n",
      "           4       0.30      0.53      0.38        34\n",
      "\n",
      "    accuracy                           0.73      1642\n",
      "   macro avg       0.53      0.70      0.52      1642\n",
      "weighted avg       0.92      0.73      0.80      1642\n",
      "\n",
      "-----------------------------------------------------------\n",
      "\n",
      "\n",
      "Precision score\n",
      "\n",
      " 0.9241152883258272\n"
     ]
    }
   ],
   "source": [
    "pi_pag_2, mu_pag_2, Sig_pag_2 = QDA_without_prior(Xapp_pag, Zapp_pag)\n",
    "prob_pag_2, pred_pag_2 = evaluation(Xtst_pag, pi_pag_2, mu_pag_2, Sig_pag_2)\n",
    "\n",
    "print(\"-----------------------------------------------------------\\n\\n\")\n",
    "print(\"Confusion matrix\")\n",
    "print('\\n', confusion_matrix(np.argmax(Ztst_pag, axis=1), pred_pag_2))\n",
    "print(\"-----------------------------------------------------------\\n\\n\")\n",
    "print(\"Classification report\")\n",
    "print('\\n', classification_report(np.argmax(Ztst_pag, axis=1), pred_pag_2))\n",
    "print(\"-----------------------------------------------------------\\n\\n\")\n",
    "print(\"Precision score\")\n",
    "print('\\n', precision_score(np.argmax(Ztst_pag, axis=1), pred_pag_2, average='weighted'))"
   ]
  },
  {
   "cell_type": "code",
   "execution_count": 11,
   "metadata": {},
   "outputs": [
    {
     "name": "stdout",
     "output_type": "stream",
     "text": [
      "Ours classes are enumerated as bellow : \n",
      " {0: 1.0, 1: 2.0, 2: 3.0, 3: 4.0, 4: 5.0}\n",
      "Ours classes are enumerated as bellow : \n",
      " {0: 1.0, 1: 2.0, 2: 3.0, 3: 4.0, 4: 5.0}\n",
      "Ours classes are enumerated as bellow : \n",
      " {0: 1.0, 1: 2.0, 2: 3.0, 3: 4.0, 4: 5.0}\n",
      "Ours classes are enumerated as bellow : \n",
      " {0: 1.0, 1: 2.0, 2: 3.0, 3: 4.0, 4: 5.0}\n",
      "Ours classes are enumerated as bellow : \n",
      " {0: 1.0, 1: 2.0, 2: 3.0, 3: 4.0, 4: 5.0}\n"
     ]
    },
    {
     "data": {
      "image/png": "[encoded data removed]",
      "text/plain": [
       "<Figure size 1080x576 with 1 Axes>"
      ]
     },
     "metadata": {
      "needs_background": "light"
     },
     "output_type": "display_data"
    }
   ],
   "source": [
    "test_size = np.array([0.1, 0.2, 0.3, 0.4, 0.5])\n",
    "prediction = np.zeros(len(test_size))\n",
    "prediction_without_prior = np.zeros(len(test_size))\n",
    "\n",
    "for i in range(len(test_size)):\n",
    "    Xapp_pag, Zapp_pag, Xtst_pag, Ztst_pag, mprior_pag, Sprior_pag = data_processing(\"dataset/page-blocks.csv\",\n",
    "                                                                                    n_components_pca=8)\n",
    "\n",
    "    pi_pag, mu_pag, Sig_pag = QDA(Xapp_pag, Zapp_pag, mprior_pag, df_exp_pag, Sprior_pag, df_cov_pag)\n",
    "    prob_pag, pred_pag = evaluation(Xtst_pag, pi_pag, mu_pag, Sig_pag)\n",
    "    prediction[i] = precision_score(np.argmax(Ztst_pag, axis=1), pred_pag, average='weighted')\n",
    "\n",
    "    pi_pag_2, mu_pag_2, Sig_pag_2 = QDA_without_prior(Xapp_pag, Zapp_pag)\n",
    "    prob_pag_2, pred_pag_2 = evaluation(Xtst_pag, pi_pag_2, mu_pag_2, Sig_pag_2)\n",
    "    prediction_without_prior[i] = precision_score(np.argmax(Ztst_pag, axis=1), pred_pag_2, average='weighted')\n",
    "\n",
    "plt.figure(figsize=(15, 8))\n",
    "plt.plot(test_size, prediction)\n",
    "plt.plot(test_size, prediction_without_prior)\n",
    "plt.xlabel(\"Test set portion\")\n",
    "plt.ylabel(\"Percentage of good prediction\")\n",
    "plt.legend([\"prior\", \"without_prior\"])\n",
    "plt.show()"
   ]
  },
  {
   "cell_type": "markdown",
   "metadata": {},
   "source": [
    "## Satimage test"
   ]
  },
  {
   "cell_type": "code",
   "execution_count": 12,
   "metadata": {},
   "outputs": [
    {
     "name": "stdout",
     "output_type": "stream",
     "text": [
      "Ours classes are enumerated as bellow : \n",
      " {0: 1.0, 1: 2.0, 2: 3.0, 3: 4.0, 4: 5.0, 5: 7.0}\n",
      "-----------------------------------------------------------\n",
      "\n",
      "\n",
      "Confusion matrix\n",
      "\n",
      " [[443   0   2   0   7   0]\n",
      " [  0 213   0   0   4   0]\n",
      " [ 10   3 389  10   3   8]\n",
      " [  2   5  50  50   2  69]\n",
      " [  7   8   0   0 191  12]\n",
      " [  1   6  22  15  17 380]]\n",
      "-----------------------------------------------------------\n",
      "\n",
      "\n",
      "Classification report\n",
      "\n",
      "               precision    recall  f1-score   support\n",
      "\n",
      "           0       0.96      0.98      0.97       452\n",
      "           1       0.91      0.98      0.94       217\n",
      "           2       0.84      0.92      0.88       423\n",
      "           3       0.67      0.28      0.40       178\n",
      "           4       0.85      0.88      0.86       218\n",
      "           5       0.81      0.86      0.84       441\n",
      "\n",
      "    accuracy                           0.86      1929\n",
      "   macro avg       0.84      0.82      0.81      1929\n",
      "weighted avg       0.85      0.86      0.85      1929\n",
      "\n",
      "-----------------------------------------------------------\n",
      "\n",
      "\n",
      "Precision score\n",
      "\n",
      " 0.8535082348350708\n"
     ]
    }
   ],
   "source": [
    "Xapp_sat, Zapp_sat, Xtst_sat, Ztst_sat, mprior_sat, Sprior_sat = data_processing(\"dataset/satimage.csv\")\n",
    "\n",
    "df_exp_sat = 0.1\n",
    "df_cov_sat = Xapp_sat.shape[1] + 1\n",
    "\n",
    "pi_sat, mu_sat, Sig_sat = QDA(Xapp_sat, Zapp_sat, mprior_sat, df_exp_sat, Sprior_sat, df_cov_sat)\n",
    "prob_sat, pred_sat = evaluation(Xtst_sat, pi_sat, mu_sat, Sig_sat)\n",
    "\n",
    "print(\"-----------------------------------------------------------\\n\\n\")\n",
    "print(\"Confusion matrix\")\n",
    "print('\\n', confusion_matrix(np.argmax(Ztst_sat, axis=1), pred_sat))\n",
    "print(\"-----------------------------------------------------------\\n\\n\")\n",
    "print(\"Classification report\")\n",
    "print('\\n', classification_report(np.argmax(Ztst_sat, axis=1), pred_sat))\n",
    "print(\"-----------------------------------------------------------\\n\\n\")\n",
    "print(\"Precision score\")\n",
    "print('\\n', precision_score(np.argmax(Ztst_sat, axis=1), pred_sat, average='weighted'))"
   ]
  },
  {
   "cell_type": "code",
   "execution_count": 13,
   "metadata": {},
   "outputs": [
    {
     "name": "stdout",
     "output_type": "stream",
     "text": [
      "-----------------------------------------------------------\n",
      "Confusion matrix\n",
      "\n",
      " [[437   2   6   1   4   2]\n",
      " [  0 214   0   0   3   0]\n",
      " [ 18   3 370  19   8   5]\n",
      " [  0   9  47  58   5  59]\n",
      " [ 15  15   3   4 167  14]\n",
      " [  3   8  27  22  18 363]]\n",
      "-----------------------------------------------------------\n",
      "Classification report\n",
      "\n",
      "               precision    recall  f1-score   support\n",
      "\n",
      "           0       0.92      0.97      0.94       452\n",
      "           1       0.85      0.99      0.91       217\n",
      "           2       0.82      0.87      0.84       423\n",
      "           3       0.56      0.33      0.41       178\n",
      "           4       0.81      0.77      0.79       218\n",
      "           5       0.82      0.82      0.82       441\n",
      "\n",
      "    accuracy                           0.83      1929\n",
      "   macro avg       0.80      0.79      0.79      1929\n",
      "weighted avg       0.82      0.83      0.82      1929\n",
      "\n",
      "-----------------------------------------------------------\n",
      "Precision score\n",
      "\n",
      " 0.822357489936548\n"
     ]
    }
   ],
   "source": [
    "pi_sat_2, mu_sat_2, Sig_sat_2 = QDA_without_prior(Xapp_sat, Zapp_sat)\n",
    "prob_sat_2, pred_sat_2 = evaluation(Xtst_sat, pi_sat_2, mu_sat_2, Sig_sat_2)\n",
    "\n",
    "print(\"-----------------------------------------------------------\")\n",
    "print(\"Confusion matrix\")\n",
    "print('\\n', confusion_matrix(np.argmax(Ztst_sat, axis=1), pred_sat_2))\n",
    "print(\"-----------------------------------------------------------\")\n",
    "print(\"Classification report\")\n",
    "print('\\n', classification_report(np.argmax(Ztst_sat, axis=1), pred_sat_2))\n",
    "print(\"-----------------------------------------------------------\")\n",
    "print(\"Precision score\")\n",
    "print('\\n', precision_score(np.argmax(Ztst_sat, axis=1), pred_sat_2, average='weighted'))"
   ]
  },
  {
   "cell_type": "code",
   "execution_count": 14,
   "metadata": {},
   "outputs": [
    {
     "name": "stdout",
     "output_type": "stream",
     "text": [
      "Ours classes are enumerated as bellow : \n",
      " {0: 1.0, 1: 2.0, 2: 3.0, 3: 4.0, 4: 5.0, 5: 7.0}\n",
      "Ours classes are enumerated as bellow : \n",
      " {0: 1.0, 1: 2.0, 2: 3.0, 3: 4.0, 4: 5.0, 5: 7.0}\n",
      "Ours classes are enumerated as bellow : \n",
      " {0: 1.0, 1: 2.0, 2: 3.0, 3: 4.0, 4: 5.0, 5: 7.0}\n",
      "Ours classes are enumerated as bellow : \n",
      " {0: 1.0, 1: 2.0, 2: 3.0, 3: 4.0, 4: 5.0, 5: 7.0}\n",
      "Ours classes are enumerated as bellow : \n",
      " {0: 1.0, 1: 2.0, 2: 3.0, 3: 4.0, 4: 5.0, 5: 7.0}\n"
     ]
    },
    {
     "data": {
      "image/png": "[encoded data removed]",
      "text/plain": [
       "<Figure size 1080x576 with 1 Axes>"
      ]
     },
     "metadata": {
      "needs_background": "light"
     },
     "output_type": "display_data"
    }
   ],
   "source": [
    "test_size = np.array([0.1, 0.2, 0.3, 0.4, 0.5])\n",
    "prediction = np.zeros(len(test_size))\n",
    "prediction_without_prior = np.zeros(len(test_size))\n",
    "\n",
    "for i in range(len(test_size)):\n",
    "    Xapp_sat, Zapp_sat, Xtst_sat, Ztst_sat, mprior_sat, Sprior_sat = data_processing(\"dataset/satimage.csv\")\n",
    "\n",
    "    pi_sat, mu_sat, Sig_sat = QDA(Xapp_sat, Zapp_sat, mprior_sat, df_exp_sat, Sprior_sat, df_cov_sat)\n",
    "    prob_sat, pred_sat = evaluation(Xtst_sat, pi_sat, mu_sat, Sig_sat)\n",
    "    prediction[i] = precision_score(np.argmax(Ztst_sat, axis=1), pred_sat, average='weighted')\n",
    "\n",
    "    pi_sat_2, mu_sat_2, Sig_sat_2 = QDA_without_prior(Xapp_sat, Zapp_sat)\n",
    "    prob_sat_2, pred_sat_2 = evaluation(Xtst_sat, pi_sat_2, mu_sat_2, Sig_sat_2)\n",
    "    prediction_without_prior[i] = precision_score(np.argmax(Ztst_sat, axis=1), pred_sat_2, average='weighted')\n",
    "\n",
    "plt.figure(figsize=(15, 8))\n",
    "plt.plot(test_size, prediction)\n",
    "plt.plot(test_size, prediction_without_prior)\n",
    "plt.xlabel(\"Test set portion\")\n",
    "plt.ylabel(\"Percentage of good prediction\")\n",
    "plt.legend([\"prior\", \"without_prior\"])\n",
    "plt.show()"
   ]
  },
  {
   "cell_type": "markdown",
   "metadata": {},
   "source": [
    "## Segment test"
   ]
  },
  {
   "cell_type": "code",
   "execution_count": 15,
   "metadata": {},
   "outputs": [
    {
     "name": "stdout",
     "output_type": "stream",
     "text": [
      "Ours classes are enumerated as bellow : \n",
      " {0: 'brickface', 1: 'cement', 2: 'foliage', 3: 'grass', 4: 'path', 5: 'sky', 6: 'window'}\n",
      "-----------------------------------------------------------\n",
      "\n",
      "\n",
      "Confusion matrix\n",
      "\n",
      " [[ 83   2   0   0   0   0   1]\n",
      " [  0 104   1   0   0   0   4]\n",
      " [  0   3  54   0   0   0  39]\n",
      " [  0   0   1 102   0   0   0]\n",
      " [  0   1   2   0  93   0   1]\n",
      " [  0   1   0   0   0  97   0]\n",
      " [  0  21   4   0   0   0  79]]\n",
      "-----------------------------------------------------------\n",
      "\n",
      "\n",
      "Classification report\n",
      "\n",
      "               precision    recall  f1-score   support\n",
      "\n",
      "           0       1.00      0.97      0.98        86\n",
      "           1       0.79      0.95      0.86       109\n",
      "           2       0.87      0.56      0.68        96\n",
      "           3       1.00      0.99      1.00       103\n",
      "           4       1.00      0.96      0.98        97\n",
      "           5       1.00      0.99      0.99        98\n",
      "           6       0.64      0.76      0.69       104\n",
      "\n",
      "    accuracy                           0.88       693\n",
      "   macro avg       0.90      0.88      0.88       693\n",
      "weighted avg       0.89      0.88      0.88       693\n",
      "\n",
      "-----------------------------------------------------------\n",
      "\n",
      "\n",
      "Precision score\n",
      "\n",
      " 0.8942997916604954\n"
     ]
    }
   ],
   "source": [
    "Xapp_seg, Zapp_seg, Xtst_seg, Ztst_seg, mprior_seg, Sprior_seg = data_processing(\"dataset/segment.csv\",\n",
    "                                                                                n_components_pca=17)\n",
    "\n",
    "df_exp_seg = 0.5\n",
    "df_cov_seg = Xapp_seg.shape[1] + 1\n",
    "\n",
    "pi_seg, mu_seg, Sig_seg = QDA(Xapp_seg, Zapp_seg, mprior_seg, df_exp_seg, Sprior_seg, df_cov_seg)\n",
    "prob_seg, pred_seg = evaluation(Xtst_seg, pi_seg, mu_seg, Sig_seg)\n",
    "\n",
    "print(\"-----------------------------------------------------------\\n\\n\")\n",
    "print(\"Confusion matrix\")\n",
    "print('\\n', confusion_matrix(np.argmax(Ztst_seg, axis=1), pred_seg))\n",
    "print(\"-----------------------------------------------------------\\n\\n\")\n",
    "print(\"Classification report\")\n",
    "print('\\n', classification_report(np.argmax(Ztst_seg, axis=1), pred_seg))\n",
    "print(\"-----------------------------------------------------------\\n\\n\")\n",
    "print(\"Precision score\")\n",
    "print('\\n', precision_score(np.argmax(Ztst_seg, axis=1), pred_seg, average='weighted'))"
   ]
  },
  {
   "cell_type": "code",
   "execution_count": 16,
   "metadata": {},
   "outputs": [
    {
     "name": "stdout",
     "output_type": "stream",
     "text": [
      "-----------------------------------------------------------\n",
      "\n",
      "\n",
      "Confusion matrix\n",
      "\n",
      " [[ 83   2   0   0   0   0   1]\n",
      " [  0 103   1   0   1   0   4]\n",
      " [  0   2  57   0   0   0  37]\n",
      " [  0   0   0 102   0   0   1]\n",
      " [  0   1   2   0  94   0   0]\n",
      " [  0   0   0   0   0  97   1]\n",
      " [  0  18   4   0   0   0  82]]\n",
      "-----------------------------------------------------------\n",
      "\n",
      "\n",
      "Classification report\n",
      "\n",
      "               precision    recall  f1-score   support\n",
      "\n",
      "           0       1.00      0.97      0.98        86\n",
      "           1       0.82      0.94      0.88       109\n",
      "           2       0.89      0.59      0.71        96\n",
      "           3       1.00      0.99      1.00       103\n",
      "           4       0.99      0.97      0.98        97\n",
      "           5       1.00      0.99      0.99        98\n",
      "           6       0.65      0.79      0.71       104\n",
      "\n",
      "    accuracy                           0.89       693\n",
      "   macro avg       0.91      0.89      0.89       693\n",
      "weighted avg       0.90      0.89      0.89       693\n",
      "\n",
      "-----------------------------------------------------------\n",
      "\n",
      "\n",
      "Precision score\n",
      "\n",
      " 0.9022578090247262\n"
     ]
    }
   ],
   "source": [
    "pi_seg_2, mu_seg_2, Sig_seg_2 = QDA_without_prior(Xapp_seg, Zapp_seg)\n",
    "prob_seg_2, pred_seg_2 = evaluation(Xtst_seg, pi_seg_2, mu_seg_2, Sig_seg_2)\n",
    "\n",
    "\n",
    "print(\"-----------------------------------------------------------\\n\\n\")\n",
    "print(\"Confusion matrix\")\n",
    "print('\\n', confusion_matrix(np.argmax(Ztst_seg, axis=1), pred_seg_2))\n",
    "print(\"-----------------------------------------------------------\\n\\n\")\n",
    "print(\"Classification report\")\n",
    "print('\\n', classification_report(np.argmax(Ztst_seg, axis=1), pred_seg_2))\n",
    "print(\"-----------------------------------------------------------\\n\\n\")\n",
    "print(\"Precision score\")\n",
    "print('\\n', precision_score(np.argmax(Ztst_seg, axis=1), pred_seg_2, average='weighted'))"
   ]
  },
  {
   "cell_type": "code",
   "execution_count": 17,
   "metadata": {},
   "outputs": [
    {
     "name": "stdout",
     "output_type": "stream",
     "text": [
      "Ours classes are enumerated as bellow : \n",
      " {0: 'brickface', 1: 'cement', 2: 'foliage', 3: 'grass', 4: 'path', 5: 'sky', 6: 'window'}\n",
      "Ours classes are enumerated as bellow : \n",
      " {0: 'brickface', 1: 'cement', 2: 'foliage', 3: 'grass', 4: 'path', 5: 'sky', 6: 'window'}\n",
      "Ours classes are enumerated as bellow : \n",
      " {0: 'brickface', 1: 'cement', 2: 'foliage', 3: 'grass', 4: 'path', 5: 'sky', 6: 'window'}\n",
      "Ours classes are enumerated as bellow : \n",
      " {0: 'brickface', 1: 'cement', 2: 'foliage', 3: 'grass', 4: 'path', 5: 'sky', 6: 'window'}\n",
      "Ours classes are enumerated as bellow : \n",
      " {0: 'brickface', 1: 'cement', 2: 'foliage', 3: 'grass', 4: 'path', 5: 'sky', 6: 'window'}\n"
     ]
    },
    {
     "data": {
      "image/png": "[encoded data removed]",
      "text/plain": [
       "<Figure size 1080x576 with 1 Axes>"
      ]
     },
     "metadata": {
      "needs_background": "light"
     },
     "output_type": "display_data"
    }
   ],
   "source": [
    "test_size = np.array([0.1, 0.2, 0.3, 0.4, 0.5])\n",
    "prediction = np.zeros(len(test_size))\n",
    "prediction_without_prior = np.zeros(len(test_size))\n",
    "\n",
    "for i in range(len(test_size)):\n",
    "    Xapp_seg, Zapp_seg, Xtst_seg, Ztst_seg, mprior_seg, Sprior_seg = data_processing(\"dataset/segment.csv\",\n",
    "                                                                                n_components_pca=10)\n",
    "\n",
    "    pi_seg, mu_seg, Sig_seg = QDA(Xapp_seg, Zapp_seg, mprior_seg, df_exp_seg, Sprior_seg, df_cov_seg)\n",
    "    prob_seg, pred_seg = evaluation(Xtst_seg, pi_seg, mu_seg, Sig_seg)\n",
    "    prediction[i] = precision_score(np.argmax(Ztst_seg, axis=1), pred_seg, average='weighted')\n",
    "\n",
    "    pi_seg_2, mu_seg_2, Sig_seg_2 = QDA_without_prior(Xapp_seg, Zapp_seg)\n",
    "    prob_seg_2, pred_seg_2 = evaluation(Xtst_seg, pi_seg_2, mu_seg_2, Sig_seg_2)\n",
    "    prediction_without_prior[i] = precision_score(np.argmax(Ztst_seg, axis=1), pred_seg_2, average='weighted')\n",
    "\n",
    "plt.figure(figsize=(15, 8))\n",
    "plt.plot(test_size, prediction)\n",
    "plt.plot(test_size, prediction_without_prior)\n",
    "plt.xlabel(\"Test set portion\")\n",
    "plt.ylabel(\"Percentage of good prediction\")\n",
    "plt.legend([\"prior\", \"without_prior\"])\n",
    "plt.show()"
   ]
  }
 ],
 "metadata": {
  "kernelspec": {
   "display_name": "Python 3",
   "language": "python",
   "name": "python3"
  },
  "language_info": {
   "codemirror_mode": {
    "name": "ipython",
    "version": 3
   },
   "file_extension": ".py",
   "mimetype": "text/x-python",
   "name": "python",
   "nbconvert_exporter": "python",
   "pygments_lexer": "ipython3",
   "version": "3.7.5"
  }
 },
 "nbformat": 4,
 "nbformat_minor": 2
}
