{
 "cells": [
  {
   "cell_type": "code",
   "execution_count": 1,
   "metadata": {},
   "outputs": [],
   "source": [
    "import warnings\n",
    "import pandas as pd\n",
    "import collections\n",
    "import numpy as np\n",
    "\n",
    "from sklearn.metrics import confusion_matrix, classification_report, precision_score\n",
    "from sklearn.decomposition import PCA"
   ]
  },
  {
   "cell_type": "code",
   "execution_count": 2,
   "metadata": {},
   "outputs": [],
   "source": [
    "def QDA(Xapp, zapp, mprior, df_exp, Sprior, df_cov):\n",
    "    n, p, K =  Xapp.shape[0], Xapp.shape[1], zapp.shape[1]\n",
    "    pi = np.zeros(K)\n",
    "    mu = np.zeros((K, p))\n",
    "    B = np.zeros((n, p, p))\n",
    "    Sig = np.zeros((p, p, K))\n",
    "    \n",
    "    pi = np.mean(zapp, axis=0)\n",
    "    for j in range(K):\n",
    "        mu[j, :] = (sum(zapp[i, j] * Xapp[i, :] for i in range(n)) \n",
    "                    + df_exp * mprior[j, :]) / (sum(zapp[:, j]) + df_exp)\n",
    "        \n",
    "        for i in range(n):\n",
    "            temp = (Xapp[i, :] - mprior[j, :]).reshape((p, -1))\n",
    "            B[i, :, :] = temp @ temp.T\n",
    "        \n",
    "        Sig[:, :, j] = (sum((zapp[i, j] * B[i, :, :]) for i in range(n)) + \n",
    "                        df_exp * (mu[j, :] - mprior[j, :]) @ (mu[j, :] - mprior[j, :]).T + \n",
    "                        Sprior[:, :, j]) / (sum(zapp[:, j]) + df_cov + p + 2)\n",
    "        \n",
    "    return pi, mu, Sig"
   ]
  },
  {
   "cell_type": "code",
   "execution_count": 3,
   "metadata": {},
   "outputs": [],
   "source": [
    "def evaluation(Xtst, pi, mu, Sig):\n",
    "    n, p, K = Xtst.shape[0], Xtst.shape[1], len(pi)\n",
    "    prob = np.zeros((n, K))\n",
    "    pred = np.zeros(n)\n",
    "    \n",
    "    f = lambda x, mu, Sig: (2 * np.pi)**(-n/2) * np.linalg.det(Sig)**(-1/2) * np.exp((-1/2) * (x - mu).T\n",
    "                                                                                     @ np.linalg.pinv(Sig)\n",
    "                                                                                     @ (x - mu))\n",
    "   \n",
    "    for j in range(K):\n",
    "        for i in range(n):\n",
    "            total = sum(pi[k] * f(Xtst[i, :], mu[k, :], Sig[:, :, k]) for k in range(K))\n",
    "            prob[i, j] = pi[j] * f(Xtst[i, :], mu[j, :], Sig[:, :, j]) / total\n",
    "    \n",
    "    pred = np.argmax(prob, axis=1)\n",
    "    \n",
    "    return prob, pred"
   ]
  },
  {
   "cell_type": "code",
   "execution_count": 4,
   "metadata": {},
   "outputs": [],
   "source": [
    "opt = pd.read_csv(\"dataset/optdigits.csv\", header=0)\n",
    "assert(opt.shape == (5620, 65))\n",
    "opt = opt.to_numpy()\n",
    "\n",
    "opt_y = opt[:, -1]\n",
    "opt_X = opt[:, :-1]\n",
    "pca = PCA(n_components=10)\n",
    "opt_X = pca.fit_transform(opt_X)\n",
    "opt = np.hstack((opt_X, opt_y.reshape((-1,1))))"
   ]
  },
  {
   "cell_type": "code",
   "execution_count": 5,
   "metadata": {},
   "outputs": [],
   "source": [
    "n_opt, p_opt = opt.shape[0], opt.shape[1] - 1\n",
    "K_opt = len(collections.Counter(list(opt[:, -1])))\n",
    "cut_off = 5000\n",
    "\n",
    "Xapp_opt = opt[0:cut_off, :-1]\n",
    "Xtst_opt = opt[cut_off:, :-1]\n",
    "\n",
    "Zapp_opt = np.zeros((cut_off, K_opt))\n",
    "Ztst_opt = np.zeros((n_opt - cut_off, K_opt))\n",
    "\n",
    "for i in range(cut_off):\n",
    "    Zapp_opt[i, int(opt[i, -1])] = 1\n",
    "for i in range(cut_off, n_opt):\n",
    "    Ztst_opt[i - cut_off, int(opt[i, -1])] = 1"
   ]
  },
  {
   "cell_type": "code",
   "execution_count": 6,
   "metadata": {},
   "outputs": [],
   "source": [
    "mprior_opt = np.zeros((K_opt, p_opt))\n",
    "Sprior_opt = np.zeros((p_opt, p_opt, K_opt))\n",
    "for j in range(K_opt):\n",
    "    temp = opt[opt[:, -1] == j, :-1]\n",
    "    mprior_opt[j, :] = temp.mean(axis = 0)\n",
    "    Sprior_opt[:, :, j] = np.cov(temp, rowvar=False)\n",
    "\n",
    "df_exp_opt = 10\n",
    "df_cov_opt = p_opt + 300"
   ]
  },
  {
   "cell_type": "code",
   "execution_count": 7,
   "metadata": {},
   "outputs": [],
   "source": [
    "pi_opt, mu_opt, Sig_opt = QDA(Xapp_opt, Zapp_opt, mprior_opt, df_exp_opt, Sprior_opt, df_cov_opt)\n",
    "prob_opt, pred_opt = evaluation(Xtst_opt, pi_opt, mu_opt, Sig_opt)"
   ]
  },
  {
   "cell_type": "code",
   "execution_count": 8,
   "metadata": {},
   "outputs": [
    {
     "name": "stdout",
     "output_type": "stream",
     "text": [
      "[[61  0  0  0  1  0  0  0  0  0]\n",
      " [ 0 58  0  0  0  0  0  0  0  5]\n",
      " [ 0  0 61  0  0  0  0  0  0  0]\n",
      " [ 0  0  0 55  0  2  0  2  4  0]\n",
      " [ 0  0  0  0 61  0  0  1  1  0]\n",
      " [ 0  0  0  0  0 62  0  0  1  0]\n",
      " [ 0  0  0  0  0  0 62  0  1  0]\n",
      " [ 0  0  0  0  0  0  0 62  0  0]\n",
      " [ 0  4  0  1  0  1  0  1 45  6]\n",
      " [ 0  0  0  1  0  2  0  0  0 59]]\n",
      "\n",
      "\n",
      "\n",
      "              precision    recall  f1-score   support\n",
      "\n",
      "           0       1.00      0.98      0.99        62\n",
      "           1       0.94      0.92      0.93        63\n",
      "           2       1.00      1.00      1.00        61\n",
      "           3       0.96      0.87      0.92        63\n",
      "           4       0.98      0.97      0.98        63\n",
      "           5       0.93      0.98      0.95        63\n",
      "           6       1.00      0.98      0.99        63\n",
      "           7       0.94      1.00      0.97        62\n",
      "           8       0.87      0.78      0.82        58\n",
      "           9       0.84      0.95      0.89        62\n",
      "\n",
      "    accuracy                           0.95       620\n",
      "   macro avg       0.95      0.94      0.94       620\n",
      "weighted avg       0.95      0.95      0.94       620\n",
      "\n",
      "\n",
      "\n",
      "\n",
      "0.9462890496410994\n"
     ]
    }
   ],
   "source": [
    "print(confusion_matrix(np.argmax(Ztst_opt, axis=1), pred_opt))\n",
    "print('\\n\\n')\n",
    "print(classification_report(np.argmax(Ztst_opt, axis=1), pred_opt))\n",
    "print('\\n\\n')\n",
    "print(precision_score(np.argmax(Ztst_opt, axis=1), pred_opt, average='weighted'))"
   ]
  },
  {
   "cell_type": "code",
   "execution_count": 9,
   "metadata": {},
   "outputs": [],
   "source": [
    "pag = pd.read_csv(\"dataset/page-blocks.csv\")\n",
    "assert(pag.shape == (5473, 11))"
   ]
  },
  {
   "cell_type": "code",
   "execution_count": 10,
   "metadata": {},
   "outputs": [],
   "source": [
    "sat = pd.read_csv(\"dataset/satimage.csv\")\n",
    "assert(sat.shape == (6430, 37))"
   ]
  },
  {
   "cell_type": "code",
   "execution_count": 11,
   "metadata": {},
   "outputs": [],
   "source": [
    "seg = pd.read_csv(\"dataset/segment.csv\")\n",
    "assert(seg.shape == (2310, 20))"
   ]
  },
  {
   "cell_type": "code",
   "execution_count": 12,
   "metadata": {},
   "outputs": [],
   "source": [
    "# 0.9766310415063318 1;p+20\n",
    "# 0.9758926103474012 10;p+20\n",
    "# 0.9671482548426473 10;p+300 \n",
    "# v reprensent the least informative -> v high -> cov lower -> more \"confident\" ????\n",
    "# high df_cov -> Sig =~~ sampling covariance matrix (in this case Sprior)"
   ]
  }
 ],
 "metadata": {
  "kernelspec": {
   "display_name": "Python 3",
   "language": "python",
   "name": "python3"
  },
  "language_info": {
   "codemirror_mode": {
    "name": "ipython",
    "version": 3
   },
   "file_extension": ".py",
   "mimetype": "text/x-python",
   "name": "python",
   "nbconvert_exporter": "python",
   "pygments_lexer": "ipython3",
   "version": "3.7.5"
  }
 },
 "nbformat": 4,
 "nbformat_minor": 2
}
